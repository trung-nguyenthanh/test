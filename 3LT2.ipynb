{
 "cells": [
  {
   "cell_type": "code",
   "execution_count": 2,
   "id": "0456f891",
   "metadata": {},
   "outputs": [
    {
     "name": "stdout",
     "output_type": "stream",
     "text": [
      "Họ tên\n",
      "MSSV\n",
      "Nhập vào số nguyên dương n: -1\n",
      "Nhập sai, y/c nhập lại: \n",
      "Nhập vào số nguyên dương n: 5\n",
      "Tổng S(n) là:  2.73588\n",
      "Ấn y để thực hiện lại, ấn n để thoáty\n",
      "Nhập vào số nguyên dương n: 4\n",
      "Tổng S(n) là:  2.48502\n",
      "Ấn y để thực hiện lại, ấn n để thoátn\n"
     ]
    }
   ],
   "source": [
    "from math import sqrt\n",
    "def nhap_dl():\n",
    "    while True:\n",
    "        n = int(input(\"Nhập vào số nguyên dương n: \"))\n",
    "        if (n>0):\n",
    "            break\n",
    "        else:\n",
    "            print(\"Nhập sai, y/c nhập lại: \")\n",
    "    return n\n",
    "def tinh_tong(n):\n",
    "    sum_n = 0\n",
    "    for i in range(1,n+1):\n",
    "        sum_n += i\n",
    "        sum_n = sqrt(sum_n)\n",
    "    return round(sum_n,5)\n",
    "print(\"Họ tên\")\n",
    "print(\"MSSV\")\n",
    "while True:\n",
    "    n = nhap_dl()\n",
    "    print(\"Tổng S(n) là: \", tinh_tong(n))\n",
    "    tmp = input(\"Ấn y để thực hiện lại, ấn n để thoát\")\n",
    "    if(tmp == 'n'):\n",
    "        break"
   ]
  },
  {
   "cell_type": "code",
   "execution_count": null,
   "id": "32be5231",
   "metadata": {},
   "outputs": [],
   "source": []
  }
 ],
 "metadata": {
  "kernelspec": {
   "display_name": "Python 3 (ipykernel)",
   "language": "python",
   "name": "python3"
  },
  "language_info": {
   "codemirror_mode": {
    "name": "ipython",
    "version": 3
   },
   "file_extension": ".py",
   "mimetype": "text/x-python",
   "name": "python",
   "nbconvert_exporter": "python",
   "pygments_lexer": "ipython3",
   "version": "3.7.3"
  }
 },
 "nbformat": 4,
 "nbformat_minor": 5
}
